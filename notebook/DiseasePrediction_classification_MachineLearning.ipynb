{
 "cells": [
  {
   "cell_type": "code",
   "execution_count": 8,
   "id": "a63823b8",
   "metadata": {},
   "outputs": [],
   "source": [
    "#import libraries\n",
    "import pandas as pd\n",
    "from sklearn.model_selection import train_test_split\n",
    "from sklearn.preprocessing import LabelEncoder, StandardScaler\n",
    "from sklearn.feature_selection import VarianceThreshold\n",
    "from sklearn.metrics import accuracy_score, classification_report\n",
    "from sklearn.model_selection import cross_val_score\n",
    "from sklearn.model_selection import GridSearchCV\n",
    "from sklearn.linear_model import LogisticRegression\n",
    "from sklearn import svm\n",
    "from sklearn.ensemble import RandomForestClassifier\n",
    "from sklearn.naive_bayes import GaussianNB\n",
    "from sklearn.metrics import f1_score\n",
    "import matplotlib.pyplot as plt"
   ]
  },
  {
   "cell_type": "code",
   "execution_count": 9,
   "id": "f68c438b",
   "metadata": {},
   "outputs": [],
   "source": [
    "#load data\n",
    "train_data = pd.read_csv('train.csv')"
   ]
  },
  {
   "cell_type": "code",
   "execution_count": 10,
   "id": "3e603e61",
   "metadata": {
    "scrolled": true
   },
   "outputs": [
    {
     "data": {
      "text/html": [
       "<div>\n",
       "<style scoped>\n",
       "    .dataframe tbody tr th:only-of-type {\n",
       "        vertical-align: middle;\n",
       "    }\n",
       "\n",
       "    .dataframe tbody tr th {\n",
       "        vertical-align: top;\n",
       "    }\n",
       "\n",
       "    .dataframe thead th {\n",
       "        text-align: right;\n",
       "    }\n",
       "</style>\n",
       "<table border=\"1\" class=\"dataframe\">\n",
       "  <thead>\n",
       "    <tr style=\"text-align: right;\">\n",
       "      <th></th>\n",
       "      <th>PatientID</th>\n",
       "      <th>Age</th>\n",
       "      <th>Sex</th>\n",
       "      <th>ChestPainType</th>\n",
       "      <th>RestingBP</th>\n",
       "      <th>Cholesterol</th>\n",
       "      <th>FastingBS</th>\n",
       "      <th>RestingECG</th>\n",
       "      <th>MaxHR</th>\n",
       "      <th>ExerciseAngina</th>\n",
       "      <th>Oldpeak</th>\n",
       "      <th>ST_Slope</th>\n",
       "      <th>HeartDisease</th>\n",
       "    </tr>\n",
       "  </thead>\n",
       "  <tbody>\n",
       "    <tr>\n",
       "      <th>0</th>\n",
       "      <td>761</td>\n",
       "      <td>52</td>\n",
       "      <td>M</td>\n",
       "      <td>ASY</td>\n",
       "      <td>112</td>\n",
       "      <td>230</td>\n",
       "      <td>0</td>\n",
       "      <td>Normal</td>\n",
       "      <td>160</td>\n",
       "      <td>N</td>\n",
       "      <td>0.0</td>\n",
       "      <td>Up</td>\n",
       "      <td>1</td>\n",
       "    </tr>\n",
       "    <tr>\n",
       "      <th>1</th>\n",
       "      <td>181</td>\n",
       "      <td>51</td>\n",
       "      <td>M</td>\n",
       "      <td>ATA</td>\n",
       "      <td>130</td>\n",
       "      <td>224</td>\n",
       "      <td>0</td>\n",
       "      <td>Normal</td>\n",
       "      <td>150</td>\n",
       "      <td>N</td>\n",
       "      <td>0.0</td>\n",
       "      <td>Up</td>\n",
       "      <td>0</td>\n",
       "    </tr>\n",
       "    <tr>\n",
       "      <th>2</th>\n",
       "      <td>309</td>\n",
       "      <td>57</td>\n",
       "      <td>M</td>\n",
       "      <td>ASY</td>\n",
       "      <td>95</td>\n",
       "      <td>0</td>\n",
       "      <td>1</td>\n",
       "      <td>Normal</td>\n",
       "      <td>182</td>\n",
       "      <td>N</td>\n",
       "      <td>0.7</td>\n",
       "      <td>Down</td>\n",
       "      <td>1</td>\n",
       "    </tr>\n",
       "    <tr>\n",
       "      <th>3</th>\n",
       "      <td>84</td>\n",
       "      <td>56</td>\n",
       "      <td>M</td>\n",
       "      <td>ASY</td>\n",
       "      <td>150</td>\n",
       "      <td>213</td>\n",
       "      <td>1</td>\n",
       "      <td>Normal</td>\n",
       "      <td>125</td>\n",
       "      <td>Y</td>\n",
       "      <td>1.0</td>\n",
       "      <td>Flat</td>\n",
       "      <td>1</td>\n",
       "    </tr>\n",
       "    <tr>\n",
       "      <th>4</th>\n",
       "      <td>88</td>\n",
       "      <td>43</td>\n",
       "      <td>M</td>\n",
       "      <td>TA</td>\n",
       "      <td>120</td>\n",
       "      <td>291</td>\n",
       "      <td>0</td>\n",
       "      <td>ST</td>\n",
       "      <td>155</td>\n",
       "      <td>N</td>\n",
       "      <td>0.0</td>\n",
       "      <td>Flat</td>\n",
       "      <td>1</td>\n",
       "    </tr>\n",
       "  </tbody>\n",
       "</table>\n",
       "</div>"
      ],
      "text/plain": [
       "   PatientID  Age Sex ChestPainType  RestingBP  Cholesterol  FastingBS  \\\n",
       "0        761   52   M           ASY        112          230          0   \n",
       "1        181   51   M           ATA        130          224          0   \n",
       "2        309   57   M           ASY         95            0          1   \n",
       "3         84   56   M           ASY        150          213          1   \n",
       "4         88   43   M            TA        120          291          0   \n",
       "\n",
       "  RestingECG  MaxHR ExerciseAngina  Oldpeak ST_Slope  HeartDisease  \n",
       "0     Normal    160              N      0.0       Up             1  \n",
       "1     Normal    150              N      0.0       Up             0  \n",
       "2     Normal    182              N      0.7     Down             1  \n",
       "3     Normal    125              Y      1.0     Flat             1  \n",
       "4         ST    155              N      0.0     Flat             1  "
      ]
     },
     "execution_count": 10,
     "metadata": {},
     "output_type": "execute_result"
    }
   ],
   "source": [
    "train_data.head()"
   ]
  },
  {
   "cell_type": "code",
   "execution_count": 11,
   "id": "01ffc975",
   "metadata": {},
   "outputs": [],
   "source": [
    "test_data = pd.read_csv('test_X.csv')"
   ]
  },
  {
   "cell_type": "code",
   "execution_count": 12,
   "id": "51f392c7",
   "metadata": {},
   "outputs": [],
   "source": [
    "#extract features\n",
    "X = train_data.drop(['PatientID', 'HeartDisease'], axis=1)\n",
    "X_target = test_data.drop('PatientID', axis=1)\n",
    "\n",
    "# extract labels\n",
    "y = train_data['HeartDisease']"
   ]
  },
  {
   "cell_type": "code",
   "execution_count": 13,
   "id": "a3e13abf",
   "metadata": {},
   "outputs": [],
   "source": [
    "#replace the 0 in cholestral to the mean value of the rest, how come when you do this the F1 decrease? after trying ways I decide to delete the row that has missing data\n",
    "#non_zero_mean = X_train[X_train['Cholesterol'] != 0]['Cholesterol'].mean()\n",
    "\n",
    "#X_train['Cholesterol'] = X_train['Cholesterol'].replace(0, non_zero_mean)\n",
    "X_train= X_train[X_train['Cholesterol'] != 0]"
   ]
  },
  {
   "cell_type": "code",
   "execution_count": 14,
   "id": "b8dc81e8",
   "metadata": {},
   "outputs": [],
   "source": [
    "#split the data into training and test sets (80%training, 20% testing)\n",
    "X_train, X_test, y_train, y_test = train_test_split(X, y, test_size=0.2)"
   ]
  },
  {
   "cell_type": "code",
   "execution_count": 15,
   "id": "17a905bb",
   "metadata": {},
   "outputs": [],
   "source": [
    "# Encode categorical features (e.g., Sex, ChestPainType, RestingECG, ExerciseAngina, ST_Slope)\n",
    "categorical_features = ['Sex', 'ChestPainType', 'RestingECG', 'ExerciseAngina', 'ST_Slope']\n",
    "encoder = LabelEncoder()\n",
    "for feature in categorical_features:\n",
    "    X_train[feature] = encoder.fit_transform(X_train[feature])\n",
    "    X_test[feature] = encoder.transform(X_test[feature])\n",
    "    X_target[feature]= encoder.transform(X_target[feature])"
   ]
  },
  {
   "cell_type": "code",
   "execution_count": 16,
   "id": "f0097f83",
   "metadata": {},
   "outputs": [
    {
     "data": {
      "text/plain": [
       "array([[58. ,  1. ,  0. , ...,  0. ,  0. ,  2. ],\n",
       "       [55. ,  1. ,  1. , ...,  0. ,  0. ,  2. ],\n",
       "       [57. ,  1. ,  0. , ...,  1. ,  0. ,  1. ],\n",
       "       ...,\n",
       "       [59. ,  1. ,  0. , ...,  0. ,  0. ,  1. ],\n",
       "       [58. ,  1. ,  2. , ...,  0. ,  3.2,  2. ],\n",
       "       [60. ,  1. ,  0. , ...,  0. ,  1.2,  1. ]])"
      ]
     },
     "execution_count": 16,
     "metadata": {},
     "output_type": "execute_result"
    }
   ],
   "source": [
    "#feature selection\n",
    "sel = VarianceThreshold(.8 * (1 - .8))\n",
    "sel.fit_transform(X_train)"
   ]
  },
  {
   "cell_type": "code",
   "execution_count": 17,
   "id": "11e8a366",
   "metadata": {},
   "outputs": [],
   "source": [
    "#standarize numerical features\n",
    "numerical_features = ['Age', 'RestingBP', 'FastingBS','Cholesterol', 'MaxHR', 'Oldpeak']\n",
    "scaler = StandardScaler()\n",
    "X_train[numerical_features] = scaler.fit_transform(X_train[numerical_features])\n",
    "X_test[numerical_features] = scaler.transform(X_test[numerical_features])\n",
    "X_target[numerical_features] = scaler.transform(X_target[numerical_features])"
   ]
  },
  {
   "cell_type": "code",
   "execution_count": 18,
   "id": "6e78a147",
   "metadata": {},
   "outputs": [
    {
     "name": "stdout",
     "output_type": "stream",
     "text": [
      "{'max_depth': None, 'min_samples_leaf': 1, 'min_samples_split': 5, 'n_estimators': 200}\n"
     ]
    }
   ],
   "source": [
    "#tuning the parameters of random forest\n",
    "param_grid = {\n",
    "    'n_estimators': [100, 200, 300],\n",
    "    'max_depth': [None, 10, 20, 30],\n",
    "    'min_samples_split': [2, 5, 10],\n",
    "    'min_samples_leaf': [1, 2, 4],\n",
    "    \n",
    "}\n",
    "\n",
    "\n",
    "#Grid search\n",
    "grid_search = GridSearchCV(estimator=RandomForestClassifier(), param_grid=param_grid, cv=5, scoring='f1')\n",
    "grid_search.fit(X_train, y_train)\n",
    "best_params = grid_search.best_params_\n",
    "print(best_params)"
   ]
  },
  {
   "cell_type": "code",
   "execution_count": 19,
   "id": "caa3d908",
   "metadata": {},
   "outputs": [
    {
     "data": {
      "text/html": [
       "<style>#sk-container-id-1 {color: black;}#sk-container-id-1 pre{padding: 0;}#sk-container-id-1 div.sk-toggleable {background-color: white;}#sk-container-id-1 label.sk-toggleable__label {cursor: pointer;display: block;width: 100%;margin-bottom: 0;padding: 0.3em;box-sizing: border-box;text-align: center;}#sk-container-id-1 label.sk-toggleable__label-arrow:before {content: \"▸\";float: left;margin-right: 0.25em;color: #696969;}#sk-container-id-1 label.sk-toggleable__label-arrow:hover:before {color: black;}#sk-container-id-1 div.sk-estimator:hover label.sk-toggleable__label-arrow:before {color: black;}#sk-container-id-1 div.sk-toggleable__content {max-height: 0;max-width: 0;overflow: hidden;text-align: left;background-color: #f0f8ff;}#sk-container-id-1 div.sk-toggleable__content pre {margin: 0.2em;color: black;border-radius: 0.25em;background-color: #f0f8ff;}#sk-container-id-1 input.sk-toggleable__control:checked~div.sk-toggleable__content {max-height: 200px;max-width: 100%;overflow: auto;}#sk-container-id-1 input.sk-toggleable__control:checked~label.sk-toggleable__label-arrow:before {content: \"▾\";}#sk-container-id-1 div.sk-estimator input.sk-toggleable__control:checked~label.sk-toggleable__label {background-color: #d4ebff;}#sk-container-id-1 div.sk-label input.sk-toggleable__control:checked~label.sk-toggleable__label {background-color: #d4ebff;}#sk-container-id-1 input.sk-hidden--visually {border: 0;clip: rect(1px 1px 1px 1px);clip: rect(1px, 1px, 1px, 1px);height: 1px;margin: -1px;overflow: hidden;padding: 0;position: absolute;width: 1px;}#sk-container-id-1 div.sk-estimator {font-family: monospace;background-color: #f0f8ff;border: 1px dotted black;border-radius: 0.25em;box-sizing: border-box;margin-bottom: 0.5em;}#sk-container-id-1 div.sk-estimator:hover {background-color: #d4ebff;}#sk-container-id-1 div.sk-parallel-item::after {content: \"\";width: 100%;border-bottom: 1px solid gray;flex-grow: 1;}#sk-container-id-1 div.sk-label:hover label.sk-toggleable__label {background-color: #d4ebff;}#sk-container-id-1 div.sk-serial::before {content: \"\";position: absolute;border-left: 1px solid gray;box-sizing: border-box;top: 0;bottom: 0;left: 50%;z-index: 0;}#sk-container-id-1 div.sk-serial {display: flex;flex-direction: column;align-items: center;background-color: white;padding-right: 0.2em;padding-left: 0.2em;position: relative;}#sk-container-id-1 div.sk-item {position: relative;z-index: 1;}#sk-container-id-1 div.sk-parallel {display: flex;align-items: stretch;justify-content: center;background-color: white;position: relative;}#sk-container-id-1 div.sk-item::before, #sk-container-id-1 div.sk-parallel-item::before {content: \"\";position: absolute;border-left: 1px solid gray;box-sizing: border-box;top: 0;bottom: 0;left: 50%;z-index: -1;}#sk-container-id-1 div.sk-parallel-item {display: flex;flex-direction: column;z-index: 1;position: relative;background-color: white;}#sk-container-id-1 div.sk-parallel-item:first-child::after {align-self: flex-end;width: 50%;}#sk-container-id-1 div.sk-parallel-item:last-child::after {align-self: flex-start;width: 50%;}#sk-container-id-1 div.sk-parallel-item:only-child::after {width: 0;}#sk-container-id-1 div.sk-dashed-wrapped {border: 1px dashed gray;margin: 0 0.4em 0.5em 0.4em;box-sizing: border-box;padding-bottom: 0.4em;background-color: white;}#sk-container-id-1 div.sk-label label {font-family: monospace;font-weight: bold;display: inline-block;line-height: 1.2em;}#sk-container-id-1 div.sk-label-container {text-align: center;}#sk-container-id-1 div.sk-container {/* jupyter's `normalize.less` sets `[hidden] { display: none; }` but bootstrap.min.css set `[hidden] { display: none !important; }` so we also need the `!important` here to be able to override the default hidden behavior on the sphinx rendered scikit-learn.org. See: https://github.com/scikit-learn/scikit-learn/issues/21755 */display: inline-block !important;position: relative;}#sk-container-id-1 div.sk-text-repr-fallback {display: none;}</style><div id=\"sk-container-id-1\" class=\"sk-top-container\"><div class=\"sk-text-repr-fallback\"><pre>RandomForestClassifier(min_samples_split=5, n_estimators=200)</pre><b>In a Jupyter environment, please rerun this cell to show the HTML representation or trust the notebook. <br />On GitHub, the HTML representation is unable to render, please try loading this page with nbviewer.org.</b></div><div class=\"sk-container\" hidden><div class=\"sk-item\"><div class=\"sk-estimator sk-toggleable\"><input class=\"sk-toggleable__control sk-hidden--visually\" id=\"sk-estimator-id-1\" type=\"checkbox\" checked><label for=\"sk-estimator-id-1\" class=\"sk-toggleable__label sk-toggleable__label-arrow\">RandomForestClassifier</label><div class=\"sk-toggleable__content\"><pre>RandomForestClassifier(min_samples_split=5, n_estimators=200)</pre></div></div></div></div></div>"
      ],
      "text/plain": [
       "RandomForestClassifier(min_samples_split=5, n_estimators=200)"
      ]
     },
     "execution_count": 19,
     "metadata": {},
     "output_type": "execute_result"
    }
   ],
   "source": [
    "# Choose a classifier \n",
    "#hdp = LogisticRegression()\n",
    "# Create an SVM classifier instance\n",
    "#svm_classifier = svm.SVC(kernel='linear', C=1.0)\n",
    "# Train the SVM classifier on the training data\n",
    "#svm_classifier.fit(X_train, y_train)\n",
    "# Create a Random Forest classifier instance\n",
    "random_forest_classifier = RandomForestClassifier(n_estimators=200, max_depth=None, min_samples_leaf=1, min_samples_split=5)\n",
    "\n",
    "# Train the Random Forest classifier on the training data\n",
    "random_forest_classifier.fit(X_train, y_train)\n",
    "\n",
    "#Train the classifier\n",
    "#hdp.fit(X_train, y_train)\n",
    "# Train the classifier\n",
    "#naive_bayes_classifier = GaussianNB()\n",
    "\n",
    "# Train the Gaussian Naive Bayes classifier on the training data\n",
    "#naive_bayes_classifier.fit(X_train, y_train)\n"
   ]
  },
  {
   "cell_type": "code",
   "execution_count": 20,
   "id": "f5cf954f",
   "metadata": {},
   "outputs": [
    {
     "data": {
      "text/plain": [
       "array([0.85416667, 0.84722222, 0.875     , 0.84027778])"
      ]
     },
     "execution_count": 20,
     "metadata": {},
     "output_type": "execute_result"
    }
   ],
   "source": [
    "# add cross validation for model evaluation\n",
    "scores = cross_val_score(random_forest_classifier, X_train, y_train, cv=4)\n",
    "scores"
   ]
  },
  {
   "cell_type": "code",
   "execution_count": 21,
   "id": "e8e0dce2",
   "metadata": {},
   "outputs": [],
   "source": [
    "# make prediction\n",
    "#y_pred = hdp.predict(X_test)\n",
    "# Make predictions on the test data\n",
    "y_pred = random_forest_classifier.predict(X_test)\n",
    "\n",
    "# Make predictions on the test data\n",
    "#y_pred = svm_classifier.predict(X_test)\n",
    "# Make predictions on the test data\n",
    "#y_pred = random_forest_classifier.predict(X_test)"
   ]
  },
  {
   "cell_type": "code",
   "execution_count": 22,
   "id": "17a23df7",
   "metadata": {},
   "outputs": [
    {
     "name": "stdout",
     "output_type": "stream",
     "text": [
      "F1 = 0.8958333333333333\n"
     ]
    }
   ],
   "source": [
    "# evaluataion\n",
    "print ('F1 =' ,f1_score(y_test, y_pred))"
   ]
  },
  {
   "cell_type": "code",
   "execution_count": 23,
   "id": "528886d0",
   "metadata": {},
   "outputs": [],
   "source": [
    "test_y_pred = random_forest_classifier.predict(X_target)"
   ]
  },
  {
   "cell_type": "code",
   "execution_count": 24,
   "id": "2f6d9970",
   "metadata": {},
   "outputs": [
    {
     "data": {
      "image/png": "[encoded data removed]",
      "text/plain": [
       "<Figure size 800x600 with 1 Axes>"
      ]
     },
     "metadata": {},
     "output_type": "display_data"
    }
   ],
   "source": [
    "# Assuming 'y_pred' contains the predicted labels (0 for 'Normal', 1 for 'Heart Disease')\n",
    "# You can adjust the labels as needed\n",
    "predicted_labels = ['Normal' if pred == 0 else 'Heart Disease' for pred in test_y_pred]\n",
    "\n",
    "# Count the occurrences of each class\n",
    "label_counts = {label: predicted_labels.count(label) for label in set(predicted_labels)}\n",
    "\n",
    "# Extract the class labels and their corresponding counts\n",
    "classes = list(label_counts.keys())\n",
    "counts = list(label_counts.values())\n",
    "\n",
    "# Create a bar graph\n",
    "plt.figure(figsize=(8, 6))\n",
    "plt.bar(classes, counts, color=['blue', 'green'])  # Adjust colors as needed\n",
    "plt.xlabel('Predicted Classes')\n",
    "plt.ylabel('Count')\n",
    "plt.title('Distribution of Predicted Classes')\n",
    "plt.show()"
   ]
  },
  {
   "cell_type": "code",
   "execution_count": 18,
   "id": "c6184e3d",
   "metadata": {},
   "outputs": [],
   "source": [
    "predictions_df = pd.DataFrame({\n",
    "    'PatientID': test_data['PatientID'],\n",
    "    'HeartDisease': test_y_pred\n",
    "})\n",
    "predictions_df.to_csv(\"test_y_pred.csv\", index=False)\n"
   ]
  },
  {
   "cell_type": "code",
   "execution_count": null,
   "id": "3992166e",
   "metadata": {},
   "outputs": [],
   "source": []
  }
 ],
 "metadata": {
  "kernelspec": {
   "display_name": "Python 3 (ipykernel)",
   "language": "python",
   "name": "python3"
  },
  "language_info": {
   "codemirror_mode": {
    "name": "ipython",
    "version": 3
   },
   "file_extension": ".py",
   "mimetype": "text/x-python",
   "name": "python",
   "nbconvert_exporter": "python",
   "pygments_lexer": "ipython3",
   "version": "3.11.4"
  }
 },
 "nbformat": 4,
 "nbformat_minor": 5
}
