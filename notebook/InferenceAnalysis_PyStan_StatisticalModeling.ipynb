{
 "cells": [
  {
   "cell_type": "code",
   "execution_count": 1,
   "id": "714eda19",
   "metadata": {},
   "outputs": [
    {
     "name": "stdout",
     "output_type": "stream",
     "text": [
      "Requirement already satisfied: pystan in /Users/siyuwu/anaconda3/lib/python3.11/site-packages (3.7.0)\n",
      "Requirement already satisfied: aiohttp<4.0,>=3.6 in /Users/siyuwu/anaconda3/lib/python3.11/site-packages (from pystan) (3.8.3)\n",
      "Requirement already satisfied: clikit<0.7,>=0.6 in /Users/siyuwu/anaconda3/lib/python3.11/site-packages (from pystan) (0.6.2)\n",
      "Requirement already satisfied: httpstan<4.11,>=4.10 in /Users/siyuwu/anaconda3/lib/python3.11/site-packages (from pystan) (4.10.0)\n",
      "Requirement already satisfied: numpy<2.0,>=1.19 in /Users/siyuwu/anaconda3/lib/python3.11/site-packages (from pystan) (1.24.3)\n",
      "Requirement already satisfied: pysimdjson<6.0.0,>=5.0.2 in /Users/siyuwu/anaconda3/lib/python3.11/site-packages (from pystan) (5.0.2)\n",
      "Requirement already satisfied: setuptools in /Users/siyuwu/anaconda3/lib/python3.11/site-packages (from pystan) (68.0.0)\n",
      "Requirement already satisfied: attrs>=17.3.0 in /Users/siyuwu/anaconda3/lib/python3.11/site-packages (from aiohttp<4.0,>=3.6->pystan) (22.1.0)\n",
      "Requirement already satisfied: charset-normalizer<3.0,>=2.0 in /Users/siyuwu/anaconda3/lib/python3.11/site-packages (from aiohttp<4.0,>=3.6->pystan) (2.0.4)\n",
      "Requirement already satisfied: multidict<7.0,>=4.5 in /Users/siyuwu/anaconda3/lib/python3.11/site-packages (from aiohttp<4.0,>=3.6->pystan) (6.0.2)\n",
      "Requirement already satisfied: async-timeout<5.0,>=4.0.0a3 in /Users/siyuwu/anaconda3/lib/python3.11/site-packages (from aiohttp<4.0,>=3.6->pystan) (4.0.2)\n",
      "Requirement already satisfied: yarl<2.0,>=1.0 in /Users/siyuwu/anaconda3/lib/python3.11/site-packages (from aiohttp<4.0,>=3.6->pystan) (1.8.1)\n",
      "Requirement already satisfied: frozenlist>=1.1.1 in /Users/siyuwu/anaconda3/lib/python3.11/site-packages (from aiohttp<4.0,>=3.6->pystan) (1.3.3)\n",
      "Requirement already satisfied: aiosignal>=1.1.2 in /Users/siyuwu/anaconda3/lib/python3.11/site-packages (from aiohttp<4.0,>=3.6->pystan) (1.2.0)\n",
      "Requirement already satisfied: crashtest<0.4.0,>=0.3.0 in /Users/siyuwu/anaconda3/lib/python3.11/site-packages (from clikit<0.7,>=0.6->pystan) (0.3.1)\n",
      "Requirement already satisfied: pastel<0.3.0,>=0.2.0 in /Users/siyuwu/anaconda3/lib/python3.11/site-packages (from clikit<0.7,>=0.6->pystan) (0.2.1)\n",
      "Requirement already satisfied: pylev<2.0,>=1.3 in /Users/siyuwu/anaconda3/lib/python3.11/site-packages (from clikit<0.7,>=0.6->pystan) (1.4.0)\n",
      "Requirement already satisfied: appdirs<2.0,>=1.4 in /Users/siyuwu/anaconda3/lib/python3.11/site-packages (from httpstan<4.11,>=4.10->pystan) (1.4.4)\n",
      "Requirement already satisfied: marshmallow<4.0,>=3.10 in /Users/siyuwu/anaconda3/lib/python3.11/site-packages (from httpstan<4.11,>=4.10->pystan) (3.21.0)\n",
      "Requirement already satisfied: webargs<9.0,>=8.0 in /Users/siyuwu/anaconda3/lib/python3.11/site-packages (from httpstan<4.11,>=4.10->pystan) (8.4.0)\n",
      "Requirement already satisfied: packaging>=17.0 in /Users/siyuwu/anaconda3/lib/python3.11/site-packages (from marshmallow<4.0,>=3.10->httpstan<4.11,>=4.10->pystan) (23.0)\n",
      "Requirement already satisfied: idna>=2.0 in /Users/siyuwu/anaconda3/lib/python3.11/site-packages (from yarl<2.0,>=1.0->aiohttp<4.0,>=3.6->pystan) (3.4)\n"
     ]
    }
   ],
   "source": [
    "!pip install pystan"
   ]
  },
  {
   "cell_type": "code",
   "execution_count": 2,
   "id": "ce9a0805",
   "metadata": {},
   "outputs": [
    {
     "name": "stdout",
     "output_type": "stream",
     "text": [
      "      weight\n",
      "0  65.847758\n",
      "1  74.322877\n",
      "2  74.524089\n",
      "3  65.867708\n",
      "4  78.392691\n"
     ]
    }
   ],
   "source": [
    "import pandas as pd\n",
    "import cmdstanpy\n",
    "import matplotlib.pyplot as plt\n",
    "\n",
    "# Load the dataset\n",
    "df = pd.read_csv('./golden_retrievers.csv')\n",
    "\n",
    "# Display the first few rows of the dataframe to understand its structure\n",
    "print(df.head())\n",
    "\n",
    "# Assuming the dataset has a single column with weights, let's prepare the data for Stan:\n",
    "weights = df['weight'].values # Replace 'weight' with the actual column name if different\n",
    "data = {'N': len(weights), 'weights': weights}\n"
   ]
  },
  {
   "cell_type": "code",
   "execution_count": 3,
   "id": "69782a66",
   "metadata": {},
   "outputs": [],
   "source": [
    "stan_model_code = \"\"\"\n",
    "data {\n",
    "  int<lower=0> N; // Number of observations\n",
    "  vector[N] weights; // Observed weights\n",
    "}\n",
    "\n",
    "parameters {\n",
    "  ordered[2] mean_weights;\n",
    "  real<lower=0> sd_female; // Standard deviation for female dogs\n",
    "  real<lower=0> sd_male; // Standard deviation for male dogs\n",
    "  simplex[2] mix_proportions; // Mixing proportions for the two distributions\n",
    "}\n",
    "\n",
    "model {\n",
    "  // Priors\n",
    "  mean_weights[1] ~ normal(0, 50); // Prior for mean_female, now mean_weights[1]\n",
    "  mean_weights[2] ~ normal(0, 50); // Prior for mean_male, now mean_weights[2]\n",
    "  sd_female ~ normal(0, 50);\n",
    "  sd_male ~ normal(0, 50);\n",
    "  \n",
    "  // Likelihood\n",
    "  for (n in 1:N) {\n",
    "    target += log_mix(mix_proportions[1],\n",
    "                      normal_lpdf(weights[n] | mean_weights[1], sd_female),\n",
    "                      normal_lpdf(weights[n] | mean_weights[2], sd_male));\n",
    "  }\n",
    "}\n",
    "\"\"\"\n"
   ]
  },
  {
   "cell_type": "code",
   "execution_count": 4,
   "id": "466be263",
   "metadata": {},
   "outputs": [],
   "source": [
    "model_file_path = 'mixture_model.stan'\n",
    "with open(model_file_path, 'w') as model_file:\n",
    "    model_file.write(stan_model_code)"
   ]
  },
  {
   "cell_type": "code",
   "execution_count": 5,
   "id": "57cf98c8",
   "metadata": {},
   "outputs": [
    {
     "name": "stderr",
     "output_type": "stream",
     "text": [
      "18:51:14 - cmdstanpy - INFO - compiling stan file /Users/siyuwu/558_HW2/mixture_model.stan to exe file /Users/siyuwu/558_HW2/mixture_model\n",
      "18:51:26 - cmdstanpy - INFO - compiled model executable: /Users/siyuwu/558_HW2/mixture_model\n"
     ]
    }
   ],
   "source": [
    "# Compile the model\n",
    "model = cmdstanpy.CmdStanModel(stan_file='./mixture_model.stan')"
   ]
  },
  {
   "cell_type": "code",
   "execution_count": 6,
   "id": "dca2360e",
   "metadata": {},
   "outputs": [
    {
     "name": "stderr",
     "output_type": "stream",
     "text": [
      "18:51:26 - cmdstanpy - INFO - CmdStan start processing\n"
     ]
    },
    {
     "data": {
      "application/vnd.jupyter.widget-view+json": {
       "model_id": "62e5c3bfd16241f2b0dc519f11345392",
       "version_major": 2,
       "version_minor": 0
      },
      "text/plain": [
       "chain 1 |          | 00:00 Status"
      ]
     },
     "metadata": {},
     "output_type": "display_data"
    },
    {
     "data": {
      "application/vnd.jupyter.widget-view+json": {
       "model_id": "876040dd2cbb4503baf36c8777120e98",
       "version_major": 2,
       "version_minor": 0
      },
      "text/plain": [
       "chain 2 |          | 00:00 Status"
      ]
     },
     "metadata": {},
     "output_type": "display_data"
    },
    {
     "data": {
      "application/vnd.jupyter.widget-view+json": {
       "model_id": "51d45187583f4cba9bc8211cbaaa9986",
       "version_major": 2,
       "version_minor": 0
      },
      "text/plain": [
       "chain 3 |          | 00:00 Status"
      ]
     },
     "metadata": {},
     "output_type": "display_data"
    },
    {
     "data": {
      "application/vnd.jupyter.widget-view+json": {
       "model_id": "159d512eabc645c4b6814f53e0ef8890",
       "version_major": 2,
       "version_minor": 0
      },
      "text/plain": [
       "chain 4 |          | 00:00 Status"
      ]
     },
     "metadata": {},
     "output_type": "display_data"
    },
    {
     "name": "stdout",
     "output_type": "stream",
     "text": [
      "                                                                                                                                                                                                                                                                                                                                "
     ]
    },
    {
     "name": "stderr",
     "output_type": "stream",
     "text": [
      "18:52:05 - cmdstanpy - INFO - CmdStan done processing.\n",
      "18:52:05 - cmdstanpy - WARNING - Non-fatal error during sampling:\n",
      "Exception: normal_lpdf: Location parameter is inf, but must be finite! (in 'mixture_model.stan', line 23, column 4 to line 25, column 74)\n",
      "\tException: normal_lpdf: Location parameter is inf, but must be finite! (in 'mixture_model.stan', line 23, column 4 to line 25, column 74)\n",
      "\tException: normal_lpdf: Location parameter is inf, but must be finite! (in 'mixture_model.stan', line 23, column 4 to line 25, column 74)\n",
      "Exception: normal_lpdf: Location parameter is inf, but must be finite! (in 'mixture_model.stan', line 23, column 4 to line 25, column 74)\n",
      "\tException: normal_lpdf: Location parameter is inf, but must be finite! (in 'mixture_model.stan', line 23, column 4 to line 25, column 74)\n",
      "\tException: normal_lpdf: Location parameter is inf, but must be finite! (in 'mixture_model.stan', line 23, column 4 to line 25, column 74)\n",
      "\tException: normal_lpdf: Location parameter is inf, but must be finite! (in 'mixture_model.stan', line 23, column 4 to line 25, column 74)\n",
      "\tException: normal_lpdf: Location parameter is inf, but must be finite! (in 'mixture_model.stan', line 23, column 4 to line 25, column 74)\n",
      "\tException: normal_lpdf: Location parameter is inf, but must be finite! (in 'mixture_model.stan', line 23, column 4 to line 25, column 74)\n",
      "\tException: normal_lpdf: Location parameter is inf, but must be finite! (in 'mixture_model.stan', line 23, column 4 to line 25, column 74)\n",
      "\tException: normal_lpdf: Location parameter is inf, but must be finite! (in 'mixture_model.stan', line 23, column 4 to line 25, column 74)\n",
      "Consider re-running with show_console=True if the above output is unclear!\n"
     ]
    },
    {
     "name": "stdout",
     "output_type": "stream",
     "text": [
      "\n"
     ]
    }
   ],
   "source": [
    "fit = model.sample(data=data, chains=4, parallel_chains=4)"
   ]
  },
  {
   "cell_type": "code",
   "execution_count": 8,
   "id": "c4ddd528",
   "metadata": {},
   "outputs": [
    {
     "name": "stdout",
     "output_type": "stream",
     "text": [
      "Summary for Female Mean Weight:\n",
      "Mean         65.288000\n",
      "MCSE          0.002502\n",
      "StdDev        0.149964\n",
      "5%           65.042500\n",
      "50%          65.287200\n",
      "95%          65.532100\n",
      "N_Eff      3592.200000\n",
      "N_Eff/s     533.918000\n",
      "R_hat         1.000850\n",
      "Name: mean_weights[1], dtype: float64\n",
      "\n",
      "Summary for Male Mean Weight:\n",
      "Mean         75.333900\n",
      "MCSE          0.003305\n",
      "StdDev        0.218790\n",
      "5%           74.954500\n",
      "50%          75.344800\n",
      "95%          75.682800\n",
      "N_Eff      4381.350000\n",
      "N_Eff/s     651.211000\n",
      "R_hat         0.999836\n",
      "Name: mean_weights[2], dtype: float64\n"
     ]
    }
   ],
   "source": [
    "print(\"Summary for Female Mean Weight:\")\n",
    "print(summary_stats.loc['mean_weights[1]'])\n",
    "\n",
    "print(\"\\nSummary for Male Mean Weight:\")\n",
    "print(summary_stats.loc['mean_weights[2]'])"
   ]
  },
  {
   "cell_type": "code",
   "execution_count": 9,
   "id": "5ebce021",
   "metadata": {},
   "outputs": [],
   "source": [
    "# Assuming `fit` is your Stan model fit object from cmdstanpy\n",
    "samples = fit.draws_pd()"
   ]
  },
  {
   "cell_type": "code",
   "execution_count": 10,
   "id": "8daa0d27",
   "metadata": {},
   "outputs": [
    {
     "name": "stdout",
     "output_type": "stream",
     "text": [
      "95% CI for female golden retrievers' weight: [64.9990625 65.577315 ]\n",
      "95% CI for male golden retrievers' weight: [74.884055 75.744315]\n"
     ]
    }
   ],
   "source": [
    "import numpy as np\n",
    "import pandas as pd\n",
    "\n",
    "# Extracting ordered mean weights samples\n",
    "mean_female_samples = samples['mean_weights[1]']\n",
    "mean_male_samples = samples['mean_weights[2]']\n",
    "\n",
    "# Calculating 95% Confidence Intervals\n",
    "ci_female = np.percentile(mean_female_samples, [2.5, 97.5])\n",
    "ci_male = np.percentile(mean_male_samples, [2.5, 97.5])\n",
    "\n",
    "print(f\"95% CI for female golden retrievers' weight: {ci_female}\")\n",
    "print(f\"95% CI for male golden retrievers' weight: {ci_male}\")\n"
   ]
  },
  {
   "cell_type": "code",
   "execution_count": 11,
   "id": "65235a44",
   "metadata": {},
   "outputs": [
    {
     "name": "stdout",
     "output_type": "stream",
     "text": [
      "Estimated ratio of female to male dogs: 2.08\n"
     ]
    }
   ],
   "source": [
    "# Assuming mix_proportions_samples correctly extracts the samples for the mixing proportions\n",
    "# If the structure of mix_proportions has not changed, no modification is needed here\n",
    "mix_proportions_samples = samples[['mix_proportions[1]', 'mix_proportions[2]']]\n",
    "mix_proportions_mean = mix_proportions_samples.mean(axis=0)\n",
    "\n",
    "# Calculating the estimated ratio of female to male dogs\n",
    "ratio_female_to_male = mix_proportions_mean['mix_proportions[1]'] / mix_proportions_mean['mix_proportions[2]']\n",
    "\n",
    "print(f\"Estimated ratio of female to male dogs: {ratio_female_to_male:.2f}\")\n"
   ]
  },
  {
   "cell_type": "code",
   "execution_count": null,
   "id": "248b6880",
   "metadata": {},
   "outputs": [],
   "source": []
  }
 ],
 "metadata": {
  "kernelspec": {
   "display_name": "Python 3 (ipykernel)",
   "language": "python",
   "name": "python3"
  },
  "language_info": {
   "codemirror_mode": {
    "name": "ipython",
    "version": 3
   },
   "file_extension": ".py",
   "mimetype": "text/x-python",
   "name": "python",
   "nbconvert_exporter": "python",
   "pygments_lexer": "ipython3",
   "version": "3.11.4"
  }
 },
 "nbformat": 4,
 "nbformat_minor": 5
}
